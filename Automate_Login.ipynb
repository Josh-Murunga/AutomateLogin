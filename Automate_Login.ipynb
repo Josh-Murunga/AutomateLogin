{
 "cells": [
  {
   "cell_type": "code",
   "execution_count": 1,
   "id": "524714c8",
   "metadata": {},
   "outputs": [],
   "source": [
    "from selenium import webdriver\n",
    "from selenium.webdriver.chrome.service import Service\n",
    "from selenium.webdriver.common.by import By\n",
    "from selenium.webdriver.chrome.options import Options\n",
    "from selenium.common.exceptions import NoSuchElementException, TimeoutException\n",
    "from selenium.webdriver.support.ui import WebDriverWait\n",
    "from selenium.webdriver.support import expected_conditions as EC"
   ]
  },
  {
   "cell_type": "code",
   "execution_count": 2,
   "id": "8440bd83",
   "metadata": {},
   "outputs": [],
   "source": [
    "# Set up Chrome options\n",
    "options = Options()\n",
    "options.add_argument('--headless')  # Run in headless mode if needed (optional)\n",
    "options.add_argument('--no-sandbox')\n",
    "options.add_argument('--disable-dev-shm-usage')\n",
    "\n",
    "# Path to your ChromeDriver\n",
    "driver_path = 'chromedriver.exe'  # Adjust the path if necessary\n",
    "\n",
    "# Initialize WebDriver\n",
    "service = Service(executable_path=driver_path)  # Specify the path using Service\n",
    "driver = webdriver.Chrome(service=service, options=options)\n",
    "\n",
    "# OpenMRS Login URL\n",
    "url = \"https://qa.kenyahmis.org/openmrs/spa/login\"\n",
    "driver.get(url)\n"
   ]
  },
  {
   "cell_type": "code",
   "execution_count": 3,
   "id": "fc16d4a0",
   "metadata": {},
   "outputs": [],
   "source": [
    "# Credentials\n",
    "username = \"admin\"\n",
    "password = \"Admin123\"\n",
    "invalid_password = \"admin\""
   ]
  },
  {
   "cell_type": "code",
   "execution_count": null,
   "id": "a7dbd4e6",
   "metadata": {},
   "outputs": [],
   "source": [
    "# Locate elements and perform login\n",
    "try:\n",
    "    # Step 1: Input username and click \"Continue\"\n",
    "    username_field = driver.find_element(By.ID, \"username\")\n",
    "    continue_button = driver.find_element(By.XPATH, \"//button[@type='submit']\")\n",
    "    \n",
    "    username_field.send_keys(username)\n",
    "    continue_button.click()  # Click the \"Continue\" button\n",
    "    print(\"Username entered and Continue button clicked\")\n",
    "    \n",
    "    # Step 2: Wait for the password field to be visible, then input the password\n",
    "    password_field = WebDriverWait(driver, 10).until(\n",
    "        EC.visibility_of_element_located((By.ID, \"password\"))\n",
    "    )\n",
    "    password_field.send_keys(password)\n",
    "    print(\"Password entered\")\n",
    "    \n",
    "    # Step 3: Click the \"Log in\" button\n",
    "    login_button = driver.find_element(By.XPATH, \"//button[@type='submit']\")\n",
    "    login_button.click()\n",
    "    print(\"Login button clicked\")\n",
    "    \n",
    "    # Step 4: Verify successful login by checking for the \"Home\" link\n",
    "    home_element = WebDriverWait(driver, 10).until(\n",
    "        EC.visibility_of_element_located((By.XPATH, \"//p[contains(text(), 'Home')]\"))\n",
    "    )\n",
    "    if home_element.is_displayed():\n",
    "        print(\"Login successful! 'Home' link found.\")\n",
    "    else:\n",
    "        print(\"Login failed: 'Home' link not found.\")\n",
    "    \n",
    "except NoSuchElementException as e:\n",
    "    print(f\"An error occurred: {e}\")\n",
    "    \n",
    "    \n",
    "# Close the WebDriver session\n",
    "driver.quit()\n",
    "print(\"WebDriver session closed.\")"
   ]
  },
  {
   "cell_type": "code",
   "execution_count": 6,
   "id": "443ba739",
   "metadata": {},
   "outputs": [
    {
     "name": "stdout",
     "output_type": "stream",
     "text": [
      "Username entered and Continue button clicked\n",
      "Password entered\n",
      "Login button clicked\n"
     ]
    },
    {
     "ename": "TimeoutException",
     "evalue": "Message: \n",
     "output_type": "error",
     "traceback": [
      "\u001b[1;31m---------------------------------------------------------------------------\u001b[0m",
      "\u001b[1;31mTimeoutException\u001b[0m                          Traceback (most recent call last)",
      "Cell \u001b[1;32mIn[6], line 24\u001b[0m\n\u001b[0;32m     21\u001b[0m     \u001b[38;5;28mprint\u001b[39m(\u001b[38;5;124m\"\u001b[39m\u001b[38;5;124mLogin button clicked\u001b[39m\u001b[38;5;124m\"\u001b[39m)\n\u001b[0;32m     23\u001b[0m     \u001b[38;5;66;03m# Step 4: Verify successful login by checking for the \"Home\" link\u001b[39;00m\n\u001b[1;32m---> 24\u001b[0m     error_message \u001b[38;5;241m=\u001b[39m WebDriverWait(driver, \u001b[38;5;241m10\u001b[39m)\u001b[38;5;241m.\u001b[39muntil(\n\u001b[0;32m     25\u001b[0m         EC\u001b[38;5;241m.\u001b[39mvisibility_of_element_located((By\u001b[38;5;241m.\u001b[39mXPATH, \u001b[38;5;124m\"\u001b[39m\u001b[38;5;124m//div[contains(text(), \u001b[39m\u001b[38;5;124m'\u001b[39m\u001b[38;5;124mInvalid username or password\u001b[39m\u001b[38;5;124m'\u001b[39m\u001b[38;5;124m)]\u001b[39m\u001b[38;5;124m\"\u001b[39m))\n\u001b[0;32m     26\u001b[0m     )\n\u001b[0;32m     29\u001b[0m \u001b[38;5;28;01mexcept\u001b[39;00m NoSuchElementException \u001b[38;5;28;01mas\u001b[39;00m e:\n\u001b[0;32m     30\u001b[0m     \u001b[38;5;28mprint\u001b[39m(\u001b[38;5;124mf\u001b[39m\u001b[38;5;124m\"\u001b[39m\u001b[38;5;124mAn error occurred: \u001b[39m\u001b[38;5;132;01m{\u001b[39;00me\u001b[38;5;132;01m}\u001b[39;00m\u001b[38;5;124m\"\u001b[39m)\n",
      "File \u001b[1;32m~\\anaconda3\\Lib\\site-packages\\selenium\\webdriver\\support\\wait.py:105\u001b[0m, in \u001b[0;36mWebDriverWait.until\u001b[1;34m(self, method, message)\u001b[0m\n\u001b[0;32m    103\u001b[0m     \u001b[38;5;28;01mif\u001b[39;00m time\u001b[38;5;241m.\u001b[39mmonotonic() \u001b[38;5;241m>\u001b[39m end_time:\n\u001b[0;32m    104\u001b[0m         \u001b[38;5;28;01mbreak\u001b[39;00m\n\u001b[1;32m--> 105\u001b[0m \u001b[38;5;28;01mraise\u001b[39;00m TimeoutException(message, screen, stacktrace)\n",
      "\u001b[1;31mTimeoutException\u001b[0m: Message: \n"
     ]
    }
   ],
   "source": [
    "# Locate elements and perform invalid login\n",
    "try:\n",
    "    # Step 1: Input username and click \"Continue\"\n",
    "    username_field = driver.find_element(By.ID, \"username\")\n",
    "    continue_button = driver.find_element(By.XPATH, \"//button[@type='submit']\")\n",
    "    \n",
    "    username_field.send_keys(username)\n",
    "    continue_button.click()  # Click the \"Continue\" button\n",
    "    print(\"Username entered and Continue button clicked\")\n",
    "    \n",
    "    # Step 2: Wait for the password field to be visible, then input the password\n",
    "    password_field = WebDriverWait(driver, 10).until(\n",
    "        EC.visibility_of_element_located((By.ID, \"password\"))\n",
    "    )\n",
    "    password_field.send_keys(invalid_password)\n",
    "    print(\"Password entered\")\n",
    "    \n",
    "    # Step 3: Click the \"Log in\" button\n",
    "    login_button = driver.find_element(By.XPATH, \"//button[@type='submit']\")\n",
    "    login_button.click()\n",
    "    print(\"Login button clicked\")\n",
    "    \n",
    "    # Step 4: Verify successful login by checking for the \"Home\" link\n",
    "    error_message = WebDriverWait(driver, 10).until(\n",
    "        EC.visibility_of_element_located((By.XPATH, \"//div[contains(text(), 'Invalid username or password')]\"))\n",
    "    )\n",
    "\n",
    "    \n",
    "except NoSuchElementException as e:\n",
    "    print(f\"An error occurred: {e}\")\n",
    "    \n",
    "    \n",
    "# Close the WebDriver session\n",
    "driver.quit()\n",
    "print(\"WebDriver session closed.\")"
   ]
  },
  {
   "cell_type": "code",
   "execution_count": 5,
   "id": "760cf323",
   "metadata": {},
   "outputs": [
    {
     "ename": "TimeoutException",
     "evalue": "Message: \n",
     "output_type": "error",
     "traceback": [
      "\u001b[1;31m---------------------------------------------------------------------------\u001b[0m",
      "\u001b[1;31mTimeoutException\u001b[0m                          Traceback (most recent call last)",
      "Cell \u001b[1;32mIn[5], line 3\u001b[0m\n\u001b[0;32m      1\u001b[0m \u001b[38;5;66;03m# Step 4: Verify successful login by checking for the \"Home\" link\u001b[39;00m\n\u001b[1;32m----> 3\u001b[0m error_message \u001b[38;5;241m=\u001b[39m WebDriverWait(driver, \u001b[38;5;241m10\u001b[39m)\u001b[38;5;241m.\u001b[39muntil(\n\u001b[0;32m      4\u001b[0m     EC\u001b[38;5;241m.\u001b[39mvisibility_of_element_located((By\u001b[38;5;241m.\u001b[39mXPATH, \u001b[38;5;124m\"\u001b[39m\u001b[38;5;124m//div[contains(@class, \u001b[39m\u001b[38;5;124m'\u001b[39m\u001b[38;5;124mcds--inline-notification__subtitle\u001b[39m\u001b[38;5;124m'\u001b[39m\u001b[38;5;124m) and contains(text(), \u001b[39m\u001b[38;5;124m'\u001b[39m\u001b[38;5;124mInvalid username or password\u001b[39m\u001b[38;5;124m'\u001b[39m\u001b[38;5;124m)]\u001b[39m\u001b[38;5;124m\"\u001b[39m))\n\u001b[0;32m      5\u001b[0m )\n",
      "File \u001b[1;32m~\\anaconda3\\Lib\\site-packages\\selenium\\webdriver\\support\\wait.py:105\u001b[0m, in \u001b[0;36mWebDriverWait.until\u001b[1;34m(self, method, message)\u001b[0m\n\u001b[0;32m    103\u001b[0m     \u001b[38;5;28;01mif\u001b[39;00m time\u001b[38;5;241m.\u001b[39mmonotonic() \u001b[38;5;241m>\u001b[39m end_time:\n\u001b[0;32m    104\u001b[0m         \u001b[38;5;28;01mbreak\u001b[39;00m\n\u001b[1;32m--> 105\u001b[0m \u001b[38;5;28;01mraise\u001b[39;00m TimeoutException(message, screen, stacktrace)\n",
      "\u001b[1;31mTimeoutException\u001b[0m: Message: \n"
     ]
    }
   ],
   "source": [
    "# Step 4: Verify successful login by checking for the \"Home\" link\n",
    "\n",
    "error_message = WebDriverWait(driver, 10).until(\n",
    "    EC.visibility_of_element_located((By.XPATH, \"//div[contains(text(), 'Invalid username or password')]\"))\n",
    ")\n"
   ]
  },
  {
   "cell_type": "code",
   "execution_count": null,
   "id": "b9008d98",
   "metadata": {},
   "outputs": [],
   "source": []
  }
 ],
 "metadata": {
  "kernelspec": {
   "display_name": "Python 3 (ipykernel)",
   "language": "python",
   "name": "python3"
  },
  "language_info": {
   "codemirror_mode": {
    "name": "ipython",
    "version": 3
   },
   "file_extension": ".py",
   "mimetype": "text/x-python",
   "name": "python",
   "nbconvert_exporter": "python",
   "pygments_lexer": "ipython3",
   "version": "3.11.5"
  }
 },
 "nbformat": 4,
 "nbformat_minor": 5
}
